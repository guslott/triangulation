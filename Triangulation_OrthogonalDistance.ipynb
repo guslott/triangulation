{
 "cells": [
  {
   "cell_type": "code",
   "execution_count": 1,
   "metadata": {},
   "outputs": [],
   "source": [
    "var('a b c d e f g');\n",
    "var('x y z w');\n",
    "Q = Matrix([[a,0,0,0,c],[0,b,0,0,d],[0,0,-a,0,e],[0,0,0,-b,f],[c,d,e,f,g]]);\n",
    "Qsinf = diagonal_matrix([1,1,1,1,0])\n",
    "X = vector([x,y,z,w,1]);"
   ]
  },
  {
   "cell_type": "code",
   "execution_count": 2,
   "metadata": {},
   "outputs": [
    {
     "data": {
      "text/plain": [
       "[ a  0  0  0  c]\n",
       "[ 0  b  0  0  d]\n",
       "[ 0  0 -a  0  e]\n",
       "[ 0  0  0 -b  f]\n",
       "[ c  d  e  f  g]"
      ]
     },
     "execution_count": 2,
     "metadata": {},
     "output_type": "execute_result"
    }
   ],
   "source": [
    "Q"
   ]
  },
  {
   "cell_type": "code",
   "execution_count": 3,
   "metadata": {},
   "outputs": [
    {
     "data": {
      "text/plain": [
       "(x, y, z, w, 1)"
      ]
     },
     "execution_count": 3,
     "metadata": {},
     "output_type": "execute_result"
    }
   ],
   "source": [
    "X"
   ]
  },
  {
   "cell_type": "markdown",
   "metadata": {},
   "source": [
    "A point on the quadric satisfies the following homogeneous constraint"
   ]
  },
  {
   "cell_type": "code",
   "execution_count": 4,
   "metadata": {},
   "outputs": [],
   "source": [
    "pq = X*Q*X"
   ]
  },
  {
   "cell_type": "markdown",
   "metadata": {},
   "source": [
    "The Tangent Plane to the Quadric has the form"
   ]
  },
  {
   "cell_type": "code",
   "execution_count": 5,
   "metadata": {},
   "outputs": [],
   "source": [
    "πt = Q*X"
   ]
  },
  {
   "cell_type": "markdown",
   "metadata": {},
   "source": [
    "The three orthogonality constraints hyper-planes are"
   ]
  },
  {
   "cell_type": "code",
   "execution_count": 6,
   "metadata": {},
   "outputs": [],
   "source": [
    "πy = vector([y,-x,0,0,0])\n",
    "πz = vector([z,0,-x,0,0])\n",
    "πw = vector([w,0,0,-x,0])"
   ]
  },
  {
   "cell_type": "markdown",
   "metadata": {},
   "source": [
    "These three planes must be orthogonal to the tangent plane.  \n",
    "This creates three more quadratic equations in the 4D point"
   ]
  },
  {
   "cell_type": "code",
   "execution_count": 7,
   "metadata": {},
   "outputs": [],
   "source": [
    "py = πt*Qsinf*πy\n",
    "pz = πt*Qsinf*πz\n",
    "pw = πt*Qsinf*πw"
   ]
  },
  {
   "cell_type": "markdown",
   "metadata": {},
   "source": [
    "These three constraints are linear in y,z,w respectively"
   ]
  },
  {
   "cell_type": "code",
   "execution_count": 8,
   "metadata": {},
   "outputs": [
    {
     "data": {
      "text/plain": [
       "[y == d*x/((a - b)*x + c)]"
      ]
     },
     "execution_count": 8,
     "metadata": {},
     "output_type": "execute_result"
    }
   ],
   "source": [
    "py.solve(y)"
   ]
  },
  {
   "cell_type": "code",
   "execution_count": 9,
   "metadata": {},
   "outputs": [
    {
     "data": {
      "text/plain": [
       "[z == e*x/(2*a*x + c)]"
      ]
     },
     "execution_count": 9,
     "metadata": {},
     "output_type": "execute_result"
    }
   ],
   "source": [
    "pz.solve(z)"
   ]
  },
  {
   "cell_type": "code",
   "execution_count": 10,
   "metadata": {},
   "outputs": [
    {
     "data": {
      "text/plain": [
       "[w == f*x/((a + b)*x + c)]"
      ]
     },
     "execution_count": 10,
     "metadata": {},
     "output_type": "execute_result"
    }
   ],
   "source": [
    "pw.solve(w)"
   ]
  },
  {
   "cell_type": "markdown",
   "metadata": {},
   "source": [
    "These three form the base curve"
   ]
  },
  {
   "cell_type": "code",
   "execution_count": 11,
   "metadata": {},
   "outputs": [],
   "source": [
    "X_bc = vector([x,d*x/((a - b)*x + c),e*x/(2*a*x + c),f*x/((a + b)*x + c),1])"
   ]
  },
  {
   "cell_type": "markdown",
   "metadata": {},
   "source": [
    "The eighth order general case polynomial, combine over a common denominator and simplify"
   ]
  },
  {
   "cell_type": "code",
   "execution_count": 12,
   "metadata": {},
   "outputs": [],
   "source": [
    "p8(x)=(X_bc*Q*X_bc)*((a + b)*x + c)^2 * ((a - b)*x + c)^2 * ((a + a)*x + c)^2"
   ]
  },
  {
   "cell_type": "markdown",
   "metadata": {},
   "source": [
    "But we may factor the epipole by recognizing the singularity constraint on Q"
   ]
  },
  {
   "cell_type": "code",
   "execution_count": 13,
   "metadata": {},
   "outputs": [],
   "source": [
    "gs = (c^2 - e^2)/a + (d^2 - f^2)/b"
   ]
  },
  {
   "cell_type": "code",
   "execution_count": 14,
   "metadata": {
    "scrolled": true
   },
   "outputs": [
    {
     "data": {
      "text/plain": [
       "(4*a^6*b*x^6 - 8*a^4*b^3*x^6 + 4*a^2*b^5*x^6 + 20*a^5*b*c*x^5 - 24*a^3*b^3*c*x^5 + 4*a*b^5*c*x^5 + 41*a^4*b*c^2*x^4 - 26*a^2*b^3*c^2*x^4 + b^5*c^2*x^4 + 4*a^5*d^2*x^4 + 8*a^4*b*d^2*x^4 + 4*a^3*b^2*d^2*x^4 - a^4*b*e^2*x^4 + 2*a^2*b^3*e^2*x^4 - b^5*e^2*x^4 - 4*a^5*f^2*x^4 + 8*a^4*b*f^2*x^4 - 4*a^3*b^2*f^2*x^4 + 44*a^3*b*c^3*x^3 - 12*a*b^3*c^3*x^3 + 12*a^4*c*d^2*x^3 + 16*a^3*b*c*d^2*x^3 + 4*a^2*b^2*c*d^2*x^3 - 4*a^3*b*c*e^2*x^3 + 4*a*b^3*c*e^2*x^3 - 12*a^4*c*f^2*x^3 + 16*a^3*b*c*f^2*x^3 - 4*a^2*b^2*c*f^2*x^3 + 26*a^2*b*c^4*x^2 - 2*b^3*c^4*x^2 + 13*a^3*c^2*d^2*x^2 + 10*a^2*b*c^2*d^2*x^2 + a*b^2*c^2*d^2*x^2 - 6*a^2*b*c^2*e^2*x^2 + 2*b^3*c^2*e^2*x^2 - 13*a^3*c^2*f^2*x^2 + 10*a^2*b*c^2*f^2*x^2 - a*b^2*c^2*f^2*x^2 + 8*a*b*c^5*x + 6*a^2*c^3*d^2*x + 2*a*b*c^3*d^2*x - 4*a*b*c^3*e^2*x - 6*a^2*c^3*f^2*x + 2*a*b*c^3*f^2*x + b*c^6 + a*c^4*d^2 - b*c^4*e^2 - a*c^4*f^2)*(a*x + c)^2/(a*b)"
      ]
     },
     "execution_count": 14,
     "metadata": {},
     "output_type": "execute_result"
    }
   ],
   "source": [
    "(p8(x).subs(g == gs)).simplify_full().factor()"
   ]
  },
  {
   "cell_type": "markdown",
   "metadata": {},
   "source": [
    "The two roots at the epipole and the joint scaling a\\*b may be removed"
   ]
  },
  {
   "cell_type": "code",
   "execution_count": 15,
   "metadata": {},
   "outputs": [],
   "source": [
    "p6(x) = (p8(x).subs(g == gs)*a*b/(a*x+c)^2).simplify_full()"
   ]
  },
  {
   "cell_type": "code",
   "execution_count": 16,
   "metadata": {},
   "outputs": [
    {
     "data": {
      "text/plain": [
       "[[b*c^6 + a*c^4*d^2 - b*c^4*e^2 - a*c^4*f^2, 0],\n",
       " [8*a*b*c^5 - 4*a*b*c^3*e^2 + 2*(3*a^2 + a*b)*c^3*d^2 - 2*(3*a^2 - a*b)*c^3*f^2,\n",
       "  1],\n",
       " [2*(13*a^2*b - b^3)*c^4 + (13*a^3 + 10*a^2*b + a*b^2)*c^2*d^2 - 2*(3*a^2*b - b^3)*c^2*e^2 - (13*a^3 - 10*a^2*b + a*b^2)*c^2*f^2,\n",
       "  2],\n",
       " [4*(11*a^3*b - 3*a*b^3)*c^3 + 4*(3*a^4 + 4*a^3*b + a^2*b^2)*c*d^2 - 4*(a^3*b - a*b^3)*c*e^2 - 4*(3*a^4 - 4*a^3*b + a^2*b^2)*c*f^2,\n",
       "  3],\n",
       " [(41*a^4*b - 26*a^2*b^3 + b^5)*c^2 + 4*(a^5 + 2*a^4*b + a^3*b^2)*d^2 - (a^4*b - 2*a^2*b^3 + b^5)*e^2 - 4*(a^5 - 2*a^4*b + a^3*b^2)*f^2,\n",
       "  4],\n",
       " [4*(5*a^5*b - 6*a^3*b^3 + a*b^5)*c, 5],\n",
       " [4*a^6*b - 8*a^4*b^3 + 4*a^2*b^5, 6]]"
      ]
     },
     "execution_count": 16,
     "metadata": {},
     "output_type": "execute_result"
    }
   ],
   "source": [
    "p6(x).coefficients(x)"
   ]
  },
  {
   "cell_type": "markdown",
   "metadata": {},
   "source": [
    "This sixth order polynomial contains roots which are the solution to the triangulation problem."
   ]
  },
  {
   "cell_type": "code",
   "execution_count": 17,
   "metadata": {},
   "outputs": [
    {
     "data": {
      "text/plain": [
       "(b*c^2 + a*d^2 - b*e^2 - a*f^2)*c^4"
      ]
     },
     "execution_count": 17,
     "metadata": {},
     "output_type": "execute_result"
    }
   ],
   "source": [
    "p6(x).coefficients(x)[0][0].factor()"
   ]
  },
  {
   "cell_type": "code",
   "execution_count": 18,
   "metadata": {},
   "outputs": [
    {
     "data": {
      "text/plain": [
       "2*(4*b*c^2 + 3*a*d^2 + b*d^2 - 2*b*e^2 - 3*a*f^2 + b*f^2)*a*c^3"
      ]
     },
     "execution_count": 18,
     "metadata": {},
     "output_type": "execute_result"
    }
   ],
   "source": [
    "p6(x).coefficients(x)[1][0].factor()"
   ]
  },
  {
   "cell_type": "code",
   "execution_count": 19,
   "metadata": {},
   "outputs": [
    {
     "data": {
      "text/plain": [
       "(26*a^2*b*c^2 - 2*b^3*c^2 + 13*a^3*d^2 + 10*a^2*b*d^2 + a*b^2*d^2 - 6*a^2*b*e^2 + 2*b^3*e^2 - 13*a^3*f^2 + 10*a^2*b*f^2 - a*b^2*f^2)*c^2"
      ]
     },
     "execution_count": 19,
     "metadata": {},
     "output_type": "execute_result"
    }
   ],
   "source": [
    "p6(x).coefficients(x)[2][0].factor()"
   ]
  },
  {
   "cell_type": "code",
   "execution_count": 20,
   "metadata": {},
   "outputs": [
    {
     "data": {
      "text/plain": [
       "4*(11*a^2*b*c^2 - 3*b^3*c^2 + 3*a^3*d^2 + 4*a^2*b*d^2 + a*b^2*d^2 - a^2*b*e^2 + b^3*e^2 - 3*a^3*f^2 + 4*a^2*b*f^2 - a*b^2*f^2)*a*c"
      ]
     },
     "execution_count": 20,
     "metadata": {},
     "output_type": "execute_result"
    }
   ],
   "source": [
    "p6(x).coefficients(x)[3][0].factor()"
   ]
  },
  {
   "cell_type": "code",
   "execution_count": 21,
   "metadata": {},
   "outputs": [
    {
     "data": {
      "text/plain": [
       "41*a^4*b*c^2 - 26*a^2*b^3*c^2 + b^5*c^2 + 4*a^5*d^2 + 8*a^4*b*d^2 + 4*a^3*b^2*d^2 - a^4*b*e^2 + 2*a^2*b^3*e^2 - b^5*e^2 - 4*a^5*f^2 + 8*a^4*b*f^2 - 4*a^3*b^2*f^2"
      ]
     },
     "execution_count": 21,
     "metadata": {},
     "output_type": "execute_result"
    }
   ],
   "source": [
    "p6(x).coefficients(x)[4][0].factor()"
   ]
  },
  {
   "cell_type": "code",
   "execution_count": 22,
   "metadata": {},
   "outputs": [
    {
     "data": {
      "text/plain": [
       "4*(5*a^2 - b^2)*(a + b)*(a - b)*a*b*c"
      ]
     },
     "execution_count": 22,
     "metadata": {},
     "output_type": "execute_result"
    }
   ],
   "source": [
    "p6(x).coefficients(x)[5][0].factor()"
   ]
  },
  {
   "cell_type": "code",
   "execution_count": 23,
   "metadata": {},
   "outputs": [
    {
     "data": {
      "text/plain": [
       "4*(a + b)^2*(a - b)^2*a^2*b"
      ]
     },
     "execution_count": 23,
     "metadata": {},
     "output_type": "execute_result"
    }
   ],
   "source": [
    "p6(x).coefficients(x)[6][0].factor()"
   ]
  },
  {
   "cell_type": "markdown",
   "metadata": {},
   "source": [
    "This polynomial has critical values at the asymptotes of the base curve\n",
    "These values have a fixed sign and define boundary conditions for the polynomial"
   ]
  },
  {
   "cell_type": "code",
   "execution_count": 24,
   "metadata": {},
   "outputs": [
    {
     "data": {
      "text/plain": [
       "-1/16*(a + b)^2*(a - b)^2*b*c^4*e^2/a^4"
      ]
     },
     "execution_count": 24,
     "metadata": {},
     "output_type": "execute_result"
    }
   ],
   "source": [
    "p6(-c/(a+a)).factor()"
   ]
  },
  {
   "cell_type": "code",
   "execution_count": 25,
   "metadata": {},
   "outputs": [
    {
     "data": {
      "text/plain": [
       "4*(a + b)^2*a*b^2*c^4*d^2/(a - b)^4"
      ]
     },
     "execution_count": 25,
     "metadata": {},
     "output_type": "execute_result"
    }
   ],
   "source": [
    "p6(-c/(a-b)).factor()"
   ]
  },
  {
   "cell_type": "code",
   "execution_count": 26,
   "metadata": {},
   "outputs": [
    {
     "data": {
      "text/plain": [
       "-4*(a - b)^2*a*b^2*c^4*f^2/(a + b)^4"
      ]
     },
     "execution_count": 26,
     "metadata": {},
     "output_type": "execute_result"
    }
   ],
   "source": [
    "p6(-c/(a+b)).factor()"
   ]
  },
  {
   "cell_type": "markdown",
   "metadata": {},
   "source": [
    "Change of variables in p6 places root bound on [0, 1/(2a)].  This normalizes coefficients to c so that no normalization is required.  With a few algebraic manipulations, this matches the code.  the zeroth order coefficient is just the parameter g when fully factored."
   ]
  },
  {
   "cell_type": "code",
   "execution_count": 71,
   "metadata": {},
   "outputs": [],
   "source": [
    "p6c(x)=(p6(-c*x)/c^4).factor()"
   ]
  },
  {
   "cell_type": "code",
   "execution_count": 72,
   "metadata": {},
   "outputs": [
    {
     "data": {
      "text/plain": [
       "[[b*c^2 + a*d^2 - b*e^2 - a*f^2, 0],\n",
       " [-8*a*b*c^2 - 6*a^2*d^2 - 2*a*b*d^2 + 4*a*b*e^2 + 6*a^2*f^2 - 2*a*b*f^2, 1],\n",
       " [26*a^2*b*c^2 - 2*b^3*c^2 + 13*a^3*d^2 + 10*a^2*b*d^2 + a*b^2*d^2 - 6*a^2*b*e^2 + 2*b^3*e^2 - 13*a^3*f^2 + 10*a^2*b*f^2 - a*b^2*f^2,\n",
       "  2],\n",
       " [-44*a^3*b*c^2 + 12*a*b^3*c^2 - 12*a^4*d^2 - 16*a^3*b*d^2 - 4*a^2*b^2*d^2 + 4*a^3*b*e^2 - 4*a*b^3*e^2 + 12*a^4*f^2 - 16*a^3*b*f^2 + 4*a^2*b^2*f^2,\n",
       "  3],\n",
       " [41*a^4*b*c^2 - 26*a^2*b^3*c^2 + b^5*c^2 + 4*a^5*d^2 + 8*a^4*b*d^2 + 4*a^3*b^2*d^2 - a^4*b*e^2 + 2*a^2*b^3*e^2 - b^5*e^2 - 4*a^5*f^2 + 8*a^4*b*f^2 - 4*a^3*b^2*f^2,\n",
       "  4],\n",
       " [-20*a^5*b*c^2 + 24*a^3*b^3*c^2 - 4*a*b^5*c^2, 5],\n",
       " [4*a^6*b*c^2 - 8*a^4*b^3*c^2 + 4*a^2*b^5*c^2, 6]]"
      ]
     },
     "execution_count": 72,
     "metadata": {},
     "output_type": "execute_result"
    }
   ],
   "source": [
    "p6c(x).coefficients(x)"
   ]
  },
  {
   "cell_type": "code",
   "execution_count": null,
   "metadata": {},
   "outputs": [],
   "source": []
  }
 ],
 "metadata": {
  "kernelspec": {
   "display_name": "SageMath 9.4",
   "language": "sage",
   "name": "sagemath-9.4"
  },
  "language_info": {
   "codemirror_mode": {
    "name": "ipython",
    "version": 3
   },
   "file_extension": ".py",
   "mimetype": "text/x-python",
   "name": "python",
   "nbconvert_exporter": "python",
   "pygments_lexer": "ipython3",
   "version": "3.9.5"
  }
 },
 "nbformat": 4,
 "nbformat_minor": 4
}
